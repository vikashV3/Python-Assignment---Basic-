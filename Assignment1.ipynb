{
 "cells": [
  {
   "cell_type": "code",
   "execution_count": 2,
   "metadata": {},
   "outputs": [
    {
     "name": "stdout",
     "output_type": "stream",
     "text": [
      "['end', 1, 2, 3, 4, 5, 6, 7, 8, 9, 'start']\n"
     ]
    }
   ],
   "source": [
    "#1 Python program to interchange first and last elements in a list\n",
    "\n",
    "list1=[\"start\",1,2,3,4,5,6,7,8,9,\"end\"]\n",
    "temp1=list1[0]\n",
    "temp2=list1[10]\n",
    "list1.pop()\n",
    "list1.append(temp1)\n",
    "list1.reverse()\n",
    "list1.pop()\n",
    "list1.append(temp2)\n",
    "list1.reverse()\n",
    "print(list1)"
   ]
  },
  {
   "cell_type": "code",
   "execution_count": 3,
   "metadata": {},
   "outputs": [
    {
     "name": "stdout",
     "output_type": "stream",
     "text": [
      "['start', 9, 2, 3, 4, 5, 6, 7, 8, 1, 'end']\n"
     ]
    }
   ],
   "source": [
    "#2 Python program to swap two elements in a list\n",
    "\n",
    "list2=[\"start\",1,2,3,4,5,6,7,8,9,\"end\"] \n",
    "temp2=list2[9]\n",
    "temp1=list2[1]\n",
    "list2.remove(1)\n",
    "list2.remove(9)\n",
    "list2.insert(1,temp2)\n",
    "list2.insert(9,temp1)\n",
    "print(list2)"
   ]
  },
  {
   "cell_type": "code",
   "execution_count": 5,
   "metadata": {},
   "outputs": [
    {
     "name": "stdout",
     "output_type": "stream",
     "text": [
      "['start', 1, 2, 3, 4, 5, 6, 7, 8, 9]\n"
     ]
    }
   ],
   "source": [
    "#3 Python program to remove Nth occurrence of the given word\n",
    "\n",
    "list3=[\"start\",1,2,3,4,5,6,7,8,9,\"end\"]\n",
    "if \"end\" in list3:\n",
    "    list3.remove(\"end\")\n",
    "print(list3)"
   ]
  },
  {
   "cell_type": "code",
   "execution_count": 6,
   "metadata": {},
   "outputs": [
    {
     "name": "stdout",
     "output_type": "stream",
     "text": [
      "11\n"
     ]
    }
   ],
   "source": [
    "#4 Python | Ways to find length of list\n",
    "\n",
    "list4=[\"start\",1,2,3,4,5,6,7,8,9,\"end\"] \n",
    "print(len(list4))"
   ]
  },
  {
   "cell_type": "code",
   "execution_count": 7,
   "metadata": {},
   "outputs": [
    {
     "name": "stdout",
     "output_type": "stream",
     "text": [
      "element exist in list\n"
     ]
    }
   ],
   "source": [
    "#5 Python | Ways to check if element exists in list\n",
    "\n",
    "list5=[\"start\",1,2,3,4,5,6,7,8,9,\"end\"] \n",
    "if 5 in list5:\n",
    "    print(\"element exist in list\")"
   ]
  },
  {
   "cell_type": "code",
   "execution_count": 11,
   "metadata": {},
   "outputs": [
    {
     "name": "stdout",
     "output_type": "stream",
     "text": [
      "[]\n",
      "[]\n"
     ]
    }
   ],
   "source": [
    "#6 Different ways to clear a list in Python\n",
    "\n",
    "list6=[\"start\",1,2,3,4,5,6,7,8,9,\"end\"] \n",
    "list6.clear()\n",
    "print(list6)\n",
    "list6=[\"start\",1,2,3,4,5,6,7,8,9,\"end\"]\n",
    "del list6[0:11]\n",
    "print(list6)"
   ]
  },
  {
   "cell_type": "code",
   "execution_count": 12,
   "metadata": {},
   "outputs": [
    {
     "name": "stdout",
     "output_type": "stream",
     "text": [
      "['end', 9, 8, 7, 6, 5, 4, 3, 2, 1, 'start']\n"
     ]
    }
   ],
   "source": [
    "#7 Python | Reversing a List\n",
    "\n",
    "list7=[\"start\",1,2,3,4,5,6,7,8,9,\"end\"] \n",
    "list7.reverse()\n",
    "print(list7)"
   ]
  },
  {
   "cell_type": "code",
   "execution_count": 13,
   "metadata": {},
   "outputs": [
    {
     "name": "stdout",
     "output_type": "stream",
     "text": [
      "['start', 1, 2, 3, 4, 5, 6, 7, 8, 9, 'end']\n",
      "['start', 1, 2, 3, 4, 5, 6, 7, 8, 9, 'end']\n"
     ]
    }
   ],
   "source": [
    "#8 Python | Cloning or Copying a list\n",
    "\n",
    "list8=[\"start\",1,2,3,4,5,6,7,8,9,\"end\"] \n",
    "copylist1=list8\n",
    "copylist2=list8.copy()\n",
    "print(copylist1)\n",
    "print(copylist2)"
   ]
  },
  {
   "cell_type": "code",
   "execution_count": 32,
   "metadata": {},
   "outputs": [
    {
     "name": "stdout",
     "output_type": "stream",
     "text": [
      "6\n"
     ]
    }
   ],
   "source": [
    "#9 Python | Count occurrences of an element in a list\n",
    "\n",
    "count=0\n",
    "list9=[1,2,3,4,5,5,5,5,5,5,6,7,8,9]\n",
    "for x in list9:\n",
    "    if x==5:\n",
    "        count = count+1\n",
    "        a=count\n",
    "        \n",
    "print(a)"
   ]
  },
  {
   "cell_type": "code",
   "execution_count": 14,
   "metadata": {},
   "outputs": [
    {
     "name": "stdout",
     "output_type": "stream",
     "text": [
      "45\n"
     ]
    }
   ],
   "source": [
    "#10 Python program to find sum of elements in list\n",
    "\n",
    "list10=[1,2,3,4,5,6,7,8,9] \n",
    "print(sum(list10))"
   ]
  },
  {
   "cell_type": "code",
   "execution_count": 16,
   "metadata": {},
   "outputs": [
    {
     "name": "stdout",
     "output_type": "stream",
     "text": [
      "120\n"
     ]
    }
   ],
   "source": [
    "#11 Python | Multiply all numbers in the list\n",
    "\n",
    "list11=[1,2,3,4,5] \n",
    "\n",
    "def func(list11):\n",
    "    flag=1\n",
    "    for x in list11:\n",
    "        flag = flag * x\n",
    "    return flag\n",
    "\n",
    "print(func(list11))"
   ]
  },
  {
   "cell_type": "code",
   "execution_count": 19,
   "metadata": {},
   "outputs": [
    {
     "name": "stdout",
     "output_type": "stream",
     "text": [
      "0\n"
     ]
    }
   ],
   "source": [
    "#12 Python program to find smallest number in a list\n",
    "\n",
    "list12=[1,2,3,6,2,5,0,6,1,3,9,7]\n",
    "list12.sort()\n",
    "print(list12[0])"
   ]
  },
  {
   "cell_type": "code",
   "execution_count": 21,
   "metadata": {},
   "outputs": [
    {
     "name": "stdout",
     "output_type": "stream",
     "text": [
      "9\n"
     ]
    }
   ],
   "source": [
    "#13 Python program to find largest number in a list\n",
    "\n",
    "list13=[1,2,3,6,2,5,0,6,1,3,9,7]\n",
    "list13.sort()\n",
    "list13.reverse()\n",
    "print(list13[0])"
   ]
  },
  {
   "cell_type": "code",
   "execution_count": 22,
   "metadata": {},
   "outputs": [
    {
     "name": "stdout",
     "output_type": "stream",
     "text": [
      "7\n"
     ]
    }
   ],
   "source": [
    "#14 Python program to find second largest number in a list\n",
    "\n",
    "list14=[1,2,3,6,2,5,0,6,1,3,9,7]\n",
    "list14.sort()\n",
    "list14.reverse()\n",
    "print(list14[1])"
   ]
  },
  {
   "cell_type": "code",
   "execution_count": 23,
   "metadata": {},
   "outputs": [
    {
     "name": "stdout",
     "output_type": "stream",
     "text": [
      "9\n",
      "7\n",
      "6\n",
      "6\n",
      "5\n",
      "3\n",
      "3\n",
      "2\n",
      "2\n",
      "1\n",
      "1\n",
      "0\n"
     ]
    }
   ],
   "source": [
    "#15 Python program to find N largest elements from a list\n",
    "\n",
    "list15=[1,2,3,6,2,5,0,6,1,3,9,7]\n",
    "list15.sort()\n",
    "list15.reverse()\n",
    "for x in list15:\n",
    "    print(x)"
   ]
  },
  {
   "cell_type": "code",
   "execution_count": 24,
   "metadata": {},
   "outputs": [
    {
     "name": "stdout",
     "output_type": "stream",
     "text": [
      "2\n",
      "4\n",
      "6\n",
      "8\n"
     ]
    }
   ],
   "source": [
    "#16 Python program to print even numbers in a list\n",
    "\n",
    "list16=[1,2,3,4,5,6,7,8,9]\n",
    "for x in list16:\n",
    "    if x%2==0:\n",
    "        print(x)"
   ]
  },
  {
   "cell_type": "code",
   "execution_count": 30,
   "metadata": {},
   "outputs": [
    {
     "name": "stdout",
     "output_type": "stream",
     "text": [
      "1\n",
      "3\n",
      "5\n",
      "7\n",
      "9\n"
     ]
    }
   ],
   "source": [
    "#17 Python program to print odd numbers in a List\n",
    "\n",
    "list17=[1,2,3,4,5,6,7,8,9]\n",
    "for x in list17:\n",
    "    if x%2!=0:\n",
    "        print(x)"
   ]
  },
  {
   "cell_type": "code",
   "execution_count": 42,
   "metadata": {},
   "outputs": [
    {
     "name": "stdout",
     "output_type": "stream",
     "text": [
      "2\n",
      "4\n",
      "6\n",
      "8\n"
     ]
    }
   ],
   "source": [
    "#18 Python program to print all even numbers in a range\n",
    "\n",
    "a=range(1,9)\n",
    "for x in a:\n",
    "    if x%2==0:\n",
    "        print(x)"
   ]
  },
  {
   "cell_type": "code",
   "execution_count": 43,
   "metadata": {},
   "outputs": [
    {
     "name": "stdout",
     "output_type": "stream",
     "text": [
      "1\n",
      "3\n",
      "5\n",
      "7\n"
     ]
    }
   ],
   "source": [
    "#19 Python program to print all odd numbers in a range\n",
    "\n",
    "a=range(1,9)\n",
    "for x in a:\n",
    "    if x%2!=0:\n",
    "        print(x)"
   ]
  },
  {
   "cell_type": "code",
   "execution_count": 40,
   "metadata": {},
   "outputs": [
    {
     "name": "stdout",
     "output_type": "stream",
     "text": [
      "9\n"
     ]
    }
   ],
   "source": [
    "#20 Python program to count Even and Odd numbers in a List\n",
    "\n",
    "list20=[1,2,3,4,5,6,7,8,9]\n",
    "list20.sort()\n",
    "\n",
    "\n",
    "flag=0\n",
    "for x in list20:\n",
    "    if x%2==0:\n",
    "        flag=flag+1\n",
    "        \n",
    "count=0\n",
    "for x in list20:\n",
    "    if x%2!=0:\n",
    "        count=count+1\n",
    "\n",
    "print(flag+count)"
   ]
  },
  {
   "cell_type": "code",
   "execution_count": 41,
   "metadata": {},
   "outputs": [
    {
     "name": "stdout",
     "output_type": "stream",
     "text": [
      "1\n",
      "4\n",
      "6\n",
      "7\n",
      "8\n",
      "9\n"
     ]
    }
   ],
   "source": [
    "#21 Python program to print positive numbers in a list\n",
    "\n",
    "list21=[-2,-5,-6,-8,-3,0,4,6,7,8,9,1]\n",
    "list21.sort()\n",
    "for x in list21:\n",
    "    if x>0:\n",
    "        print(x)"
   ]
  },
  {
   "cell_type": "code",
   "execution_count": 34,
   "metadata": {},
   "outputs": [
    {
     "name": "stdout",
     "output_type": "stream",
     "text": [
      "-8\n",
      "-6\n",
      "-5\n",
      "-3\n",
      "-2\n"
     ]
    }
   ],
   "source": [
    "#22 Python program to print negative numbers in a list\n",
    "\n",
    "list22=[-2,-5,-6,-8,-3,0,4,6,7,8,9,1]\n",
    "list22.sort()\n",
    "for x in list22:\n",
    "    if x<0:\n",
    "        print(x)"
   ]
  },
  {
   "cell_type": "code",
   "execution_count": 45,
   "metadata": {},
   "outputs": [
    {
     "name": "stdout",
     "output_type": "stream",
     "text": [
      "8\n"
     ]
    }
   ],
   "source": [
    "#23 Python program to print all positive numbers in a range\n",
    "\n",
    "a=range(-9,9)\n",
    "flag=0\n",
    "for x in a:\n",
    "    if x>0:\n",
    "        flag=flag+1\n",
    "\n",
    "print(flag)"
   ]
  },
  {
   "cell_type": "code",
   "execution_count": 44,
   "metadata": {},
   "outputs": [
    {
     "name": "stdout",
     "output_type": "stream",
     "text": [
      "9\n"
     ]
    }
   ],
   "source": [
    "#24 Python program to print all negative numbers in a range\n",
    "\n",
    "a=range(-9,9)\n",
    "flag=0\n",
    "for x in a:\n",
    "    if x<0:\n",
    "        flag=flag+1\n",
    "\n",
    "print(flag)"
   ]
  },
  {
   "cell_type": "code",
   "execution_count": 38,
   "metadata": {},
   "outputs": [
    {
     "name": "stdout",
     "output_type": "stream",
     "text": [
      "14\n"
     ]
    }
   ],
   "source": [
    "#25 Python program to count positive and negative numbers in a list\n",
    "\n",
    "list25=[-2,-5,-6,-8,-3,0,4,6,7,8,9,1]\n",
    "list25.sort()\n",
    "\n",
    "for x in list25:\n",
    "    if x>0:\n",
    "        a=x\n",
    "count=0\n",
    "for x in list25:\n",
    "    if x<0:\n",
    "        count=count+1\n",
    "        \n",
    "\n",
    "\n",
    "print(a+count)"
   ]
  }
 ],
 "metadata": {
  "kernelspec": {
   "display_name": "Python 3",
   "language": "python",
   "name": "python3"
  },
  "language_info": {
   "codemirror_mode": {
    "name": "ipython",
    "version": 3
   },
   "file_extension": ".py",
   "mimetype": "text/x-python",
   "name": "python",
   "nbconvert_exporter": "python",
   "pygments_lexer": "ipython3",
   "version": "3.7.3"
  }
 },
 "nbformat": 4,
 "nbformat_minor": 2
}
